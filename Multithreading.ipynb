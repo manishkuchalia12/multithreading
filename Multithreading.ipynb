{
 "cells": [
  {
   "cell_type": "markdown",
   "id": "114c8962-859d-47ec-974d-11afaae1e1ae",
   "metadata": {},
   "source": [
    "Q1:- what is multithreading in python?"
   ]
  },
  {
   "cell_type": "markdown",
   "id": "c3e08268-0192-4c14-8e20-a5cb53a6e366",
   "metadata": {},
   "source": [
    "Ans:-Multithreading in Python refers to the concurrent execution of two or more threads (smaller units of a process) to execute multiple tasks concurrently. Python provides a module called threading to handle threads."
   ]
  },
  {
   "cell_type": "markdown",
   "id": "edfbf469-881a-4719-9227-ff70246383bb",
   "metadata": {},
   "source": [
    "why is it used?"
   ]
  },
  {
   "cell_type": "markdown",
   "id": "bae88db9-055d-4bc5-8730-3a7fac38c8f2",
   "metadata": {},
   "source": [
    "Ans :- Multithreading in Python is used for several reasons, primarily to achieve concurrency and parallelism in program execution.\n",
    "Concurrency\n",
    "Responsiveness\n",
    "Task Decomposition"
   ]
  },
  {
   "cell_type": "markdown",
   "id": "cd9afbc4-d64d-4f8c-9b8d-fa4d1b26f5a9",
   "metadata": {},
   "source": [
    " Name the module used to handle threads in python\n",
    "ans:-The module used to handle threads in Python is called threading."
   ]
  },
  {
   "cell_type": "markdown",
   "id": "56db5fde-e3b9-4ea5-bd0f-93892cc0c37d",
   "metadata": {},
   "source": [
    "Q2:-why threading module used?\n",
    "The threading module in Python is used for working with threads, which are smaller units of a process that can run concurrently. "
   ]
  },
  {
   "cell_type": "markdown",
   "id": "60b99971-7b9e-4169-bddc-5ee3c80cce8c",
   "metadata": {},
   "source": [
    "activeCount():-The activeCount function is part of the threading module in Python, and it is used to get the current number of Thread objects that are alive."
   ]
  },
  {
   "cell_type": "markdown",
   "id": "2041154d-d680-4eb5-96e2-fcac399f8f6d",
   "metadata": {},
   "source": [
    "currentThread():-The currentThread function in the threading module is used to obtain a reference to the current Thread object that is calling the function. This function can be particularly useful when you need to identify the thread in which a certain piece of code is running. "
   ]
  },
  {
   "cell_type": "markdown",
   "id": "325f3257-2ede-42e7-b68a-872ca1100227",
   "metadata": {},
   "source": [
    "enumerate():-The enumerate function in Python is a built-in function that is often used with iterables, such as lists, to loop over elements while keeping track of the index or position of each element. "
   ]
  },
  {
   "cell_type": "markdown",
   "id": "b10a163f-6d32-4b42-ba96-974b785cdf53",
   "metadata": {},
   "source": [
    "3. Explain the following functions"
   ]
  },
  {
   "cell_type": "markdown",
   "id": "f04f856b-59b0-4c0d-ba15-438e0206b9cd",
   "metadata": {},
   "source": [
    "1.run() :-In Python's threading module, the run method is not typically called directly. Instead, you usually override the run method in a custom class that inherits from the Thread class, and then you create an instance of that class to represent a thread. When the thread is started, the run method of the custom class is automatically invoked."
   ]
  },
  {
   "cell_type": "markdown",
   "id": "e6e1a972-1629-4da4-bdc6-976540be5718",
   "metadata": {},
   "source": [
    "2.start():-\n",
    "In Python's threading module, the start method is used to initiate the execution of a thread. The start method must be called on a Thread object, and it triggers the invocation of the run method in a separate thread of control."
   ]
  },
  {
   "cell_type": "markdown",
   "id": "b032ff6b-21d7-4cee-8565-565aad637a6c",
   "metadata": {},
   "source": [
    "3.join():-The join() method in Python's threading module is used to wait for a thread to complete its execution before allowing the program to proceed. When a thread calls the join() method, the program will block and wait until the specified thread finishes."
   ]
  },
  {
   "cell_type": "markdown",
   "id": "9dc0d77d-fa8e-4b7a-8a4f-fd49a4b82aa2",
   "metadata": {},
   "source": [
    "4.isAlive():-\n",
    "The isAlive() method in Python's threading module is used to check whether a thread is currently executing or has finished its execution. It returns True if the thread is alive (i.e., still running), and False if the thread has completed its execution."
   ]
  },
  {
   "cell_type": "markdown",
   "id": "975ed87c-8787-497c-9ec6-43a29343416a",
   "metadata": {},
   "source": [
    "4. write a python program to create two threads. Thread one must print the list of squares and thread\n",
    "two must print the list of cubes"
   ]
  },
  {
   "cell_type": "code",
   "execution_count": 1,
   "id": "599b5230-0736-4720-9cab-f682f6502de0",
   "metadata": {},
   "outputs": [
    {
     "name": "stdout",
     "output_type": "stream",
     "text": [
      "Square of 1: 1\n",
      "Square of 2: 4\n",
      "Square of 3: 9\n",
      "Square of 4: 16\n",
      "Square of 5: 25\n",
      "Cube of 1: 1\n",
      "Cube of 2: 8\n",
      "Cube of 3: 27\n",
      "Cube of 4: 64\n",
      "Cube of 5: 125\n",
      "Main thread is done\n"
     ]
    }
   ],
   "source": [
    "import threading\n",
    "\n",
    "def print_squares():\n",
    "    for i in range(1, 6):\n",
    "        print(f\"Square of {i}: {i**2}\")\n",
    "\n",
    "def print_cubes():\n",
    "    for i in range(1, 6):\n",
    "        print(f\"Cube of {i}: {i**3}\")\n",
    "\n",
    "thread_squares = threading.Thread(target=print_squares)\n",
    "thread_cubes = threading.Thread(target=print_cubes)\n",
    "thread_squares.start()\n",
    "thread_cubes.start()\n",
    "thread_squares.join()\n",
    "thread_cubes.join()\n",
    "\n",
    "print(\"Main thread is done\")\n"
   ]
  },
  {
   "cell_type": "markdown",
   "id": "5604b374-2dd7-48ba-83df-1ee2b18b12d2",
   "metadata": {},
   "source": [
    "5. State advantages and disadvantages of multithreading"
   ]
  },
  {
   "cell_type": "code",
   "execution_count": null,
   "id": "9bdfca5e-26da-4f7b-8e89-00b0c1d9b02c",
   "metadata": {},
   "outputs": [],
   "source": [
    "Advantages:\n",
    "1.Multithreading allows concurrent execution of tasks, making applications more responsive, especially in user interface scenarios.\n",
    "2.Threads within the same process share the same memory space, making it easier for them to communicate and share data without the need for complex inter-process communication mechanisms.\n",
    "3.Well-suited for I/O-bound tasks where threads can perform other operations while waiting for input/output operations to complete.\n",
    "4.Multithreading allows breaking down a complex task into smaller, more manageable subtasks that can be executed concurrently. \n",
    "                                                                                                                                       \n",
    "Disadvantages:\n",
    "1.The Global Interpreter Lock (GIL) limits the execution of Python bytecode to one thread at a time, restricting true parallelism and affecting performance for CPU-bound tasks.                                                                                                                                       \n",
    "2.Multithreading introduces complexity due to the need for synchronization mechanisms (e.g., locks, semaphores) to avoid data race conditions and ensure proper communication between threads.\n",
    "3.Debugging multithreaded programs can be challenging, as issues like deadlocks and race conditions may occur, and the behavior can be non-deterministic. \n",
    "                                                                                                                                       "
   ]
  }
 ],
 "metadata": {
  "kernelspec": {
   "display_name": "Python 3 (ipykernel)",
   "language": "python",
   "name": "python3"
  },
  "language_info": {
   "codemirror_mode": {
    "name": "ipython",
    "version": 3
   },
   "file_extension": ".py",
   "mimetype": "text/x-python",
   "name": "python",
   "nbconvert_exporter": "python",
   "pygments_lexer": "ipython3",
   "version": "3.12.0"
  }
 },
 "nbformat": 4,
 "nbformat_minor": 5
}
